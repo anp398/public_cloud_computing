{
 "cells": [
  {
   "cell_type": "markdown",
   "metadata": {},
   "source": [
    "# Guide 1: Public Cloud with Microsoft Azure"
   ]
  },
  {
   "cell_type": "markdown",
   "metadata": {},
   "source": [
    "Public Cloud services are useful tools to store and analyze documents' contents as well as to extract and process data. If you have never used a public cloud, you've probably already used: uploading documents to remote platform (some popular ones are DropBox, Google Drive, etc), transcribing an audio (after a set of interviews), copying and pasting data from webpage' images (who did not do that, right?) are some example of services that have been automated on public clouds to offer an on demand/on premises service.\n",
    "\n",
    "Microsoft Azure is a platform that automates and enhances a lot of the tasks that arise when dealing with storing data, machine learning and cluster computing [Azure](https://azure.microsoft.com/en-us/). It's one of the top competitors for investments on these services, (see [The Top 5 Cloud Computing Vendors](https://www.forbes.com/sites/bobevans1/2017/11/07/the-top-5-cloud-computing-vendors-1-microsoft-2-amazon-3-ibm-4-salesforce-5-sap/#3f1473c56f2e)) being the one with greater investments as estimated recentely.\n",
    "\n",
    "In this tutorial we are going to explain: a) cloud basics, b) sign in Microsoft Azure, c) deploy some cloud services (i.e. storage, cognitive science, and machine learning studio) and get the keys to use them either using APIs and web interface application. While some cognitive services are accessible from the studio, some are not so we have to poke around with code to exploit the most insteristing services for social scientists available. (**to check:** sign in and use some of Artificial Intelligence and Machine Learning services (namely storage,  cognitive science, ) api, get familiar to machine learning studio.\n",
    "\n",
    "We'll go over the basics of Microsoft Azure, but we should point out that a *lot* of talented people have given tutorials, and we won't do any better than they have. \n",
    "**to check:** Point out some resources and explain why they are good (add links).\n",
    "\n",
    "**TODO:** what is public cloud?"
   ]
  },
  {
   "cell_type": "markdown",
   "metadata": {},
   "source": [
    "# Table of Contents\n",
    "* [Guide 1: Public Cloud with Microsoft Azure](#Guide-1:-Public-Cloud-with-Microsoft-Azure)\n",
    "\t* [Why should you use public cloud computing services?](#Why-should-you-use-public-cloud-computing-services?)\n",
    "    * [Public cloud computing basics](#Public-cloud-computing-basics)\n",
    "\t* [Getting started: first access to Azure](#Getting-started:-first-access-to-Azure)\n",
    "    \t* [Create your Azure free account](#Create-your-Azure-free-account)\n",
    "    \t* [Login to Azure Dashboard and create your first service](#Login-to-Azure-Dashboard-and-create-your-first-service)\n",
    "    \t* [Create keys necessary to use Azure services APIs](#Create-keys-necessary-to-use-Azure-services-APIs)\n",
    "    * [Recap](#Recap)\n",
    "        * [What you have learnt](#What-you-have-learnt)\n",
    "        * [What you will learn next guide](#What-you-will-learn-next-guide)"
   ]
  },
  {
   "cell_type": "markdown",
   "metadata": {},
   "source": [
    "## Why should you use public cloud services?\n",
    "\n",
    "If you ask different people, you'll get different answers, but one of the commonalities is that most people realize/don't realize ... explain. Here are some highlights:\n",
    "\n",
    "- ** You can do : ** Public cloud provides remote resources.\n",
    "- ** You won't *need* to : ** One of the advantages .\n",
    "- ** You can do in the specific : ** Public cloud allows you to .\n",
    "- ** Public cloud forces teams to : ** Public cloud allows you to .\n",
    "\n",
    "Note: Based on the survey we think that these points will be relevant for your work\n",
    "\n",
    "## Public cloud basics\n",
    "\n",
    "The first thing to understand about public cloud is that ... make analogy to introduce formal definition\n",
    "\n",
    "National Institute of Standards and Technology (NIST) defines cloud:\n",
    "\n",
    "“Cloud computing is a model for enabling ubiquitous, convenient, on-demand network access to a shared pool of configurable computing resources (e.g., networks, servers, storage, applications, and services) that can be rapidly provisioned and released with minimal management effort or service provider interaction.”[add_link_to_document].\n",
    "\n",
    "Cloud computing has 5 essential characteristics:\n",
    "\n",
    " - On-demand self-service: explain\n",
    " - Shared resource pooling: explain\n",
    " - Rapid elasticity: explain\n",
    " - Measured service: explain\n",
    " - Broad network Access: explain\n",
    "\n",
    "You can think about cloud computing as composition of three different areas/models: IaaS, PaaS, SaaS\n",
    "    \n",
    "![Add images](figs/name.png)\n",
    "\n",
    " - The **IaaS** is .\n",
    " - The **PaaS** is .\n",
    " - The **SaaS** is .An example of Cloud Computing is Software as a Service (SaaS), where you input data on software and the data is transformed remotely through a software interface without your computer being involved.\n",
    " \n",
    "In this to tutorial we are going to show you how to use mostly SaaS/PaaS"
   ]
  },
  {
   "cell_type": "markdown",
   "metadata": {},
   "source": [
    "## Getting started: first access to Azure\n",
    "### Create your Azure free account\n",
    "\n",
    "To access Azure cloud computing services, you will have to sign up for an Azure free account [[1](#1)], if you don’t already have one. If you do not have a Microsoft account either you will be asked to create one, otherwise insert your_email_address@outlook.com. To create your Azure account you will be asked to add your credentials as well as a credit card account. This will not be charged unless you exceed the credit provided with the one month trial version. We reccomend to cancel the account after the first month in case you are not interested in the service. (Note: ask for azure credit).\n",
    "\n",
    "Follow the next steps to set up a free account:\n",
    "1. Go to https://azure.microsoft.com/en-us/ and click on `free account`\n",
    "\n",
    "![getting_started_free_account](img/getting_started_free_account.png)\n",
    "\n",
    "2. Click on `start for free`\n",
    "\n",
    "![getting_started_start_free](img/getting_started_start_free.png)\n",
    "\n",
    "3. Create an Azure account: choose name, set password, add security info, add credit/debit card information \n",
    "\n",
    "![getting_started_create_azure_account](img/getting_started_create_azure_account.png)\n",
    "\n",
    "\n",
    "### Login to Azure Dashboard and create your first service\n",
    "\n",
    "Once you have created your Azure free account, you just need to go to the Azure portal and login using the credentials. You are now ready to deploy your first public cloud service! Follow the next steps:\n",
    "\n",
    "1. Go to https://portal.azure.com/ and sign-in to your account to access Azure Dashboard (note: familiarize with the relevant services?)\n",
    "\n",
    "![login_to_azure_select_account](img/login_to_azure_select_account.png)\n",
    "\n",
    "2. click on `create a resorce`\n",
    "\n",
    "![Add images](figs/name.png)\n",
    "\n",
    "3. Below Azure MarketPlace, click on `AI + machine learning` or use the bar *`Search on market place`*\n",
    "\n",
    "![Add images](figs/name.png)\n",
    "\n",
    "4. click on the preferred services (e.g. `storage`, `face`, etc.)\n",
    "\n",
    "![Add images](figs/name.png)\n",
    "\n",
    "5. Complete entering the following and click on `create` once finished: \n",
    "\n",
    "      - Account name: enter name without space (e.g. \"MyStorageAccountService\") \n",
    "      - Pricing tier: select `free tier`\n",
    "      - Select server region: **to check**\n",
    "      - Resource Group: create a new entering name without space or select an existing one\n",
    "      - Pin to dashboard (optional): check box\n",
    "      \n",
    "![Add images](figs/name.png)\n",
    "\n",
    "6. Once the service is deployed, click on the box wiht `service_name`. Then, click on `keys section` to API's keys.\n",
    "\n",
    "![Add images](figs/name.png)\n",
    "\n",
    "\n",
    "### Create keys necessary to use Azure services APIs\n",
    "\n",
    "We are going to poke around with several services. We reccomend to create all the services on the list below and to save the primary API key for each one on the cell below (add link). (We provide a small script that allow for using the keys without having to copy and paste everytime from one file to another)\n",
    "\n",
    "To make things faster we recommend to click on the `Create a Resorce` and to copy each service name on the finder to avoid looking for each one. Here is a complete list of the services:\n",
    "\n",
    "- Storage Account\n",
    "- Face\n",
    "- Computer Vision\n",
    "- Bing Speech Recognition\n",
    "- Azure Machine Learning #not sure if they need to do it now\n",
    "\n",
    "You can use the code below to save a script with all the keys."
   ]
  },
  {
   "cell_type": "code",
   "execution_count": 1,
   "metadata": {
    "collapsed": true
   },
   "outputs": [],
   "source": [
    "#############################\n",
    "#script to organize the keys#\n",
    "#############################\n",
    "\n",
    "# STORAGE_ACCOUNT_API_KEY = 'add_your_primary_key_here'\n",
    "# FACE_API_KEY = 'add_your_primary_key_here'\n",
    "# COMPUTER_VISION_API_KEY = 'add_your_primary_key_here'\n",
    "# SPEECH_RECOGNITION_KEY = 'add_your_primary_key_here'\n",
    "# FACE_API_KEY = 'add_your_primary_key_here'\n",
    "# ML_STUDIO_API_KEY = 'add_your_primary_key_here'"
   ]
  },
  {
   "cell_type": "markdown",
   "metadata": {},
   "source": [
    "#### Footnotes\n",
    "[1] 200$ for 30 days to try pay as you go services and free account for a year  \n",
    "**TODO** add more docs about billing information"
   ]
  },
  {
   "cell_type": "markdown",
   "metadata": {},
   "source": [
    "## Recap\n",
    "### What you have learnt\n",
    "\n",
    "- What is cloud computing and when it is useful (it is convenient? to hold stuff on the cloud)\n",
    "- Deploy public cloud service services\n",
    "- Now that you know more about cloud, what do you think about a) and b)?\n",
    "\n",
    "### What you will learn next guide\n",
    "- How to use public cloud services:\n",
    "    - Azure Blob Storage and Cognitive Services using APIs\n",
    "    - Machine Learning Studio"
   ]
  },
  {
   "cell_type": "code",
   "execution_count": 2,
   "metadata": {
    "collapsed": true
   },
   "outputs": [],
   "source": [
    "##TODO: \n",
    "#write css style here"
   ]
  }
 ],
 "metadata": {
  "kernelspec": {
   "display_name": "Python 3",
   "language": "python",
   "name": "python3"
  },
  "language_info": {
   "codemirror_mode": {
    "name": "ipython",
    "version": 3
   },
   "file_extension": ".py",
   "mimetype": "text/x-python",
   "name": "python",
   "nbconvert_exporter": "python",
   "pygments_lexer": "ipython3",
   "version": "3.6.5"
  }
 },
 "nbformat": 4,
 "nbformat_minor": 2
}
